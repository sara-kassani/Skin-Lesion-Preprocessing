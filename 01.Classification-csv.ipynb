{
 "cells": [
  {
   "cell_type": "code",
   "execution_count": 11,
   "metadata": {},
   "outputs": [
    {
     "data": {
      "text/plain": [
       "'2.2.2'"
      ]
     },
     "execution_count": 11,
     "metadata": {},
     "output_type": "execute_result"
    }
   ],
   "source": [
    "import keras\n",
    "keras.__version__"
   ]
  },
  {
   "cell_type": "code",
   "execution_count": 20,
   "metadata": {},
   "outputs": [],
   "source": [
    "import pandas as pd\n",
    "import os\n",
    "import numpy as np\n",
    "\n",
    "def create_dir(parent_path):\n",
    "    '''\n",
    "            We have three classes and base on CSV information, if the image is belongs to melanoma for example,\n",
    "            it should be moved to melanoma directory\n",
    "    '''\n",
    "    if not os.path.exists(os.path.join(parent_path, 'MEL')):\n",
    "        os.makedirs(os.path.join(parent_path, 'MEL'))\n",
    "\n",
    "    if not os.path.exists(os.path.join(parent_path, 'NV')):\n",
    "        os.makedirs(os.path.join(parent_path, 'NV'))\n",
    "\n",
    "    if not os.path.exists(os.path.join(parent_path, 'BCC')):\n",
    "        os.makedirs(os.path.join(parent_path, 'BCC'))\n",
    "    \n",
    "    if not os.path.exists(os.path.join(parent_path, 'AKIEC')):\n",
    "        os.makedirs(os.path.join(parent_path, 'AKIEC'))\n",
    "        \n",
    "    if not os.path.exists(os.path.join(parent_path, 'BKL')):\n",
    "        os.makedirs(os.path.join(parent_path, 'BKL'))\n",
    "    \n",
    "    if not os.path.exists(os.path.join(parent_path, 'DF')):\n",
    "        os.makedirs(os.path.join(parent_path, 'DF'))\n",
    "        \n",
    "    if not os.path.exists(os.path.join(parent_path, 'VASC')):\n",
    "        os.makedirs(os.path.join(parent_path, 'VASC'))"
   ]
  },
  {
   "cell_type": "code",
   "execution_count": 21,
   "metadata": {},
   "outputs": [],
   "source": [
    "train_df = pd.read_csv('data/ISIC2018_Task3_Training_GroundTruth.csv')\n",
    "# validation_df = pd.read_csv('ISIC-2017_Validation_Part3_GroundTruth.csv')\n",
    "# test_df = pd.read_csv('ISIC-2017_Test_v2_Part3_GroundTruth.csv')"
   ]
  },
  {
   "cell_type": "code",
   "execution_count": 22,
   "metadata": {},
   "outputs": [
    {
     "name": "stdout",
     "output_type": "stream",
     "text": [
      "          image  MEL   NV  BCC  AKIEC  BKL   DF  VASC\n",
      "0  ISIC_0024306  0.0  1.0  0.0    0.0  0.0  0.0   0.0\n",
      "1  ISIC_0024307  0.0  1.0  0.0    0.0  0.0  0.0   0.0\n",
      "2  ISIC_0024308  0.0  1.0  0.0    0.0  0.0  0.0   0.0\n",
      "3  ISIC_0024309  0.0  1.0  0.0    0.0  0.0  0.0   0.0\n",
      "4  ISIC_0024310  1.0  0.0  0.0    0.0  0.0  0.0   0.0\n"
     ]
    }
   ],
   "source": [
    "print(train_df.head())"
   ]
  },
  {
   "cell_type": "code",
   "execution_count": 23,
   "metadata": {},
   "outputs": [],
   "source": [
    "train_dir = 'data/processed-data/train-preprocess-sharpen-hair'"
   ]
  },
  {
   "cell_type": "code",
   "execution_count": 24,
   "metadata": {},
   "outputs": [],
   "source": [
    "create_dir('train-preprocess-sharpen-hair')"
   ]
  },
  {
   "cell_type": "code",
   "execution_count": 25,
   "metadata": {},
   "outputs": [],
   "source": [
    "labels_train = np.zeros((len(train_df), 7))"
   ]
  },
  {
   "cell_type": "code",
   "execution_count": 26,
   "metadata": {},
   "outputs": [],
   "source": [
    "def move_image(type_, dataframe, directory):\n",
    "    '''\n",
    "            Move each image to its own folder\n",
    "    '''\n",
    "\n",
    "    for index, image in enumerate(dataframe['image']):\n",
    "        image_path = os.path.join(directory, image + '.jpg')\n",
    "\n",
    "        if dataframe.loc[dataframe['image'] == image]['MEL'].all() == 1:\n",
    "            os.rename(image_path, os.path.join(\n",
    "                type_, 'MEL', image + '.jpg'))\n",
    "            if(type_ == 'train'):\n",
    "                labels_train[index][0] = 1\n",
    "\n",
    "        elif dataframe.loc[dataframe['image'] == image]['NV'].all() == 1:\n",
    "            os.rename(image_path, os.path.join(\n",
    "                type_, 'NV', image + '.jpg'))\n",
    "            if(type_ == 'train'):\n",
    "                labels_train[index][1] = 1\n",
    "\n",
    "\n",
    "        elif dataframe.loc[dataframe['image'] == image]['BCC'].all() == 1:\n",
    "            os.rename(image_path, os.path.join(\n",
    "                type_, 'BCC', image + '.jpg'))\n",
    "            if(type_ == 'train'):\n",
    "                labels_train[index][1] = 1\n",
    "                \n",
    "        elif dataframe.loc[dataframe['image'] == image]['AKIEC'].all() == 1:\n",
    "            os.rename(image_path, os.path.join(\n",
    "                type_, 'AKIEC', image + '.jpg'))\n",
    "            if(type_ == 'train'):\n",
    "                labels_train[index][1] = 1\n",
    "                \n",
    "        elif dataframe.loc[dataframe['image'] == image]['BKL'].all() == 1:\n",
    "            os.rename(image_path, os.path.join(\n",
    "                type_, 'BKL', image + '.jpg'))\n",
    "            if(type_ == 'train'):\n",
    "                labels_train[index][1] = 1\n",
    "                \n",
    "        elif dataframe.loc[dataframe['image'] == image]['DF'].all() == 1:\n",
    "            os.rename(image_path, os.path.join(\n",
    "                type_, 'DF', image + '.jpg'))\n",
    "            if(type_ == 'train'):\n",
    "                labels_train[index][1] = 1\n",
    "                \n",
    "        elif dataframe.loc[dataframe['image'] == image]['VASC'].all() == 1:\n",
    "            os.rename(image_path, os.path.join(\n",
    "                type_, 'VASC', image + '.jpg'))\n",
    "            if(type_ == 'train'):\n",
    "                labels_train[index][1] = 1\n"
   ]
  },
  {
   "cell_type": "code",
   "execution_count": 27,
   "metadata": {},
   "outputs": [],
   "source": [
    "move_image('train-preprocess-sharpen-hair', train_df, train_dir)"
   ]
  },
  {
   "cell_type": "code",
   "execution_count": null,
   "metadata": {},
   "outputs": [],
   "source": []
  }
 ],
 "metadata": {
  "kernelspec": {
   "display_name": "Python 3",
   "language": "python",
   "name": "python3"
  },
  "language_info": {
   "codemirror_mode": {
    "name": "ipython",
    "version": 3
   },
   "file_extension": ".py",
   "mimetype": "text/x-python",
   "name": "python",
   "nbconvert_exporter": "python",
   "pygments_lexer": "ipython3",
   "version": "3.6.5"
  }
 },
 "nbformat": 4,
 "nbformat_minor": 2
}
